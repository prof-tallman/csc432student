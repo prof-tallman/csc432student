{
 "cells": [
  {
   "cell_type": "markdown",
   "id": "0df3cc03",
   "metadata": {},
   "source": [
    "# KMeans with SciKit-Learn\n",
    "\n",
    "Machine Learning with scikit-learn is easy. All the algorithms and helper functions that you might need are included as part of it. You'll still need to gather and clean your data. You'll need to know what algorithm to use and how to tune it for the specific problem that you are working on.\n",
    "\n",
    "### References: ###\n",
    "* [How to Determine the Optimal K for K-Means by Khyati Mahendru](https://medium.com/analytics-vidhya/how-to-determine-the-optimal-k-for-k-means-708505d204eb)"
   ]
  },
  {
   "cell_type": "markdown",
   "id": "1160222c",
   "metadata": {},
   "source": [
    "## Refresher ##\n",
    "\n",
    "Load and cluster the Glacier dataset. We already know that the data is clean, so you can skip those steps. But you do need to normalize the data before running KMeans. You may use SKLearn for all of this."
   ]
  },
  {
   "cell_type": "code",
   "execution_count": null,
   "id": "7596103f",
   "metadata": {},
   "outputs": [],
   "source": [
    "import numpy as np\n",
    "import pandas as pd\n",
    "import matplotlib.pyplot as plt\n",
    "from sklearn.cluster import KMeans\n",
    "from sklearn.preprocessing import MinMaxScaler\n",
    "\n",
    "\n",
    "# Read in the same Old Faithful Geyser data that we used before\n",
    "# Filter the data to make it easier to user and then normalie it.\n",
    "\n",
    "df = pd.read_csv('old_faithful_geyser_eruption_time.csv')\n",
    "df.rename(columns={\"Eruption time\":\"Eruption\", \"Waiting time\":\"Waiting\"}, inplace=True)\n",
    "df.drop(columns=[\"Unnamed: 0\"], inplace=True)\n",
    "\n",
    "scaler = MinMaxScaler()\n",
    "df[['Waiting', 'Eruption']] = scaler.fit_transform(df[['Waiting', 'Eruption']])\n",
    "\n",
    "\n",
    "# Define the model: K-Means with 2 clusters\n",
    "# Fit the model to the data: runs K-Mean to find centroids\n",
    "# Assign \"new\" samples to each centroid; for data-mining, we often just use the original data\n",
    "\n",
    "km = KMeans(n_clusters=2, max_iter=10)\n",
    "km.fit(df[['Eruption', 'Waiting']])\n",
    "centroids = km.cluster_centers_\n",
    "df['Clusters'] = km.predict(df[['Eruption', 'Waiting']])\n",
    "\n",
    "\n",
    "# Plot the clusters and centroids\n",
    "# We must map cluster labels to colors\n",
    "\n",
    "colors = (\"dodgerblue\", \"darkorange\")\n",
    "plt.figure(figsize=(8,8))\n",
    "plt.scatter(df['Eruption'], df['Waiting'], c=[colors[clus_id] for clus_id in df['Clusters']])\n",
    "plt.scatter(x=centroids[:,0], y=centroids[:,1], marker=\"+\", c='black')\n",
    "plt.plot()"
   ]
  },
  {
   "attachments": {
    "geyser_elbow.png": {
     "image/png": "[encoded data removed]"
    }
   },
   "cell_type": "markdown",
   "id": "12a54a0c",
   "metadata": {},
   "source": [
    "## Choosing the Right K-Value ##\n",
    "\n",
    "For these simple 2-D models, it's pretty easy for us to determine the ideal value for `k` by looking at the plot. But that technique won't work for more complicated datasets. However, there is a way that we can mathematically determine a k-value that is *likely* to be optimal.\n",
    "\n",
    "We choose a reasonable k-value by calculating the Within-Cluster Sum of Squared Errors (WSSE), which measures the overall size of each cluster. We define the size of a cluster to be the sum of the distances from the centroid to each sample in the cluster. Small, dense clusters will lead to lower scores (e.g., low scores are good).\n",
    "\n",
    "To choose the optimal k-value, we create a series of KMeans models each with a different number of clusters, starting at 1 and going to some upper maximum. For each of these models, we calculate the WSSE score and plot the results. As more clusters are added (e.g., `k` increases), the WSSE score decreases. Since lower scores indicate better models, we look towards the lower end. But as you keep adding clusters, there is a point of diminishing returns. This point is close to where the curve flattens out and is called the \"elbow\" of the curve. In some situations the elbow is very pronounced and in others it is more nuanced.\n",
    "\n",
    "![geyser_elbow.png](attachment:geyser_elbow.png)\n",
    "\n",
    "### Calculating WSSE with SKLearn ###\n",
    "\n",
    "It took quite a few steps to calculate the Within-Cluster Sum of Squared Errors (WSSE) by hand. Why recreate the wheel if SciKit-Learn already calculates the WSSE for us? Not to worry, KMeans stores the WSSE in a variable called `inertia_`\n",
    "\n",
    "Also, the good news is that WSSE is an $O(n)$ algorithm."
   ]
  },
  {
   "cell_type": "code",
   "execution_count": null,
   "id": "a795a976",
   "metadata": {},
   "outputs": [],
   "source": [
    "km = KMeans(n_clusters=2, max_iter=10)\n",
    "km.fit(df[['Eruption', 'Waiting']])\n",
    "wsse = km.inertia_\n",
    "wsse"
   ]
  },
  {
   "cell_type": "code",
   "execution_count": null,
   "id": "ccdc5c26",
   "metadata": {},
   "outputs": [],
   "source": [
    "km = KMeans(n_clusters=3, max_iter=10)\n",
    "km.fit(df[['Eruption', 'Waiting']])\n",
    "wsse = km.inertia_\n",
    "wsse"
   ]
  },
  {
   "cell_type": "code",
   "execution_count": null,
   "id": "d12a2308",
   "metadata": {},
   "outputs": [],
   "source": [
    "km = KMeans(n_clusters=4, max_iter=10)\n",
    "km.fit(df[['Eruption', 'Waiting']])\n",
    "wsse = km.inertia_\n",
    "wsse"
   ]
  },
  {
   "cell_type": "code",
   "execution_count": null,
   "id": "353ae7ba",
   "metadata": {},
   "outputs": [],
   "source": [
    "km = KMeans(n_clusters=5, max_iter=10)\n",
    "km.fit(df[['Eruption', 'Waiting']])\n",
    "wsse = km.inertia_\n",
    "wsse"
   ]
  },
  {
   "cell_type": "markdown",
   "id": "1d2f909b",
   "metadata": {},
   "source": [
    "## Exercise ##\n",
    "\n",
    "Can we automate the technique to work with more generic datasets where the solution is not so obvious? Let's try generating random blobs of data. We'll use a function from SciKit-Learn that creates handy test data. The function can create a random number of blobs so that we don't actually know the correct number of clusters. Instead, we can detect a reasonable value using the WSSE Elbow Method.\n",
    "\n",
    "### Calculating WWSE for Random Dataset ###\n",
    "\n",
    "Use [make_blobs](https://scikit-learn.org/stable/modules/generated/sklearn.datasets.make_blobs.html#sklearn.datasets.make_blobs) from to create a random dataset with anywhere from 5-15 clusters. Then write the code to generate a WSSE Elbow Plot.\n",
    " * n_features=2 so that we can plot the graph in 2D space\n",
    " * cluster_std=0.6 some of the clusters will likely overlap... try playing with this value\n",
    " * centers=# is how we set the number of clusters\n",
    "\n",
    "After the code is done, you'll need to analyze the plot and pick the best number of clusters. Create a KMeans model with the best k-value and plot the resulting clusters. Did your WSSE Elbow Plot provide a good value for `k`?\n",
    "\n",
    "***You can submit a python file (.py) or a jupyter notebook. A notebook is probably easier for this assignment.***"
   ]
  },
  {
   "cell_type": "code",
   "execution_count": null,
   "id": "7dcad8fc",
   "metadata": {},
   "outputs": [],
   "source": [
    "import random\n",
    "from sklearn.datasets import make_blobs\n",
    "\n",
    "cluster_count = random.randint(5, 15)\n",
    "print(\"Original Cluster Count: {}\".format(cluster_count))\n",
    "\n",
    "# In machine learning, the input features are usually called \"X\" and the output labels are called \"y\"\n",
    "# Note that X may have many dimensions... it is not the same as the x-axis (a single dimension)\n",
    "\n",
    "plt.figure(figsize=(7,7))\n",
    "(X, y) = make_blobs(n_samples=500, n_features=2, cluster_std=0.6, centers=cluster_count)\n",
    "plt.scatter(X[:,0], X[:,1], c=y)\n",
    "plt.show()"
   ]
  },
  {
   "cell_type": "code",
   "execution_count": null,
   "id": "30ef0bc9",
   "metadata": {},
   "outputs": [],
   "source": [
    "# CALCULATE WSSE FOR A RANGE OF POSSIBLE K-VALUES"
   ]
  },
  {
   "cell_type": "code",
   "execution_count": null,
   "id": "3ecbec69",
   "metadata": {},
   "outputs": [],
   "source": [
    "# SET CLUSTER COUNT HERE BASED ON RESULTS OF WSSE ELBOW\n",
    "cluster_count = \n",
    "\n",
    "km = KMeans(n_clusters=cluster_count, max_iter=25)\n",
    "km.fit(X)\n",
    "\n",
    "centroids = km.cluster_centers_\n",
    "clusters = km.predict(X)\n",
    "\n",
    "fig = plt.figure(figsize=(8, 8))\n",
    "plt.scatter(x=X[:,0], y=X[:,1], c=clusters)\n",
    "plt.scatter(x=centroids[:,0], y=centroids[:,1], marker=\"+\", c='black')\n",
    "plt.show()"
   ]
  },
  {
   "cell_type": "code",
   "execution_count": null,
   "id": "c9a91e72",
   "metadata": {},
   "outputs": [],
   "source": []
  }
 ],
 "metadata": {
  "kernelspec": {
   "display_name": "Python 3 (ipykernel)",
   "language": "python",
   "name": "python3"
  },
  "language_info": {
   "codemirror_mode": {
    "name": "ipython",
    "version": 3
   },
   "file_extension": ".py",
   "mimetype": "text/x-python",
   "name": "python",
   "nbconvert_exporter": "python",
   "pygments_lexer": "ipython3",
   "version": "3.9.7"
  }
 },
 "nbformat": 4,
 "nbformat_minor": 5
}
