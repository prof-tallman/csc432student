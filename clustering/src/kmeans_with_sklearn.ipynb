{
 "cells": [
  {
   "cell_type": "markdown",
   "id": "0df3cc03",
   "metadata": {},
   "source": [
    "# KMeans with SciKit-Learn\n",
    "\n",
    "Machine Learning with scikit-learn is easy. All the algorithms and helper functions that you might need are included as part of it. You'll still need to gather and clean your data. You'll need to know what algorithm to use and how to tune it for the specific problem that you are working on.\n",
    "\n",
    "### References: ###\n",
    "* [K-Means Clustering Explained by Soner Yildirim](https://towardsdatascience.com/k-means-clustering-explained-4528df86a120)\n",
    "* [Understanding Boxplots by Michael Galarnyk](https://towardsdatascience.com/understanding-boxplots-5e2df7bcbd51)\n",
    "* [How to Use StandardScaler and MinMaxScaler Transforms in Python by Jason Brownlee](https://machinelearningmastery.com/standardscaler-and-minmaxscaler-transforms-in-python/)"
   ]
  },
  {
   "cell_type": "markdown",
   "id": "694bb556",
   "metadata": {},
   "source": [
    "## Old Faithful ##\n",
    "\n",
    "We'll continue to use the very simple, 2-D dataset from Old Faithful Geyser in Yellowstone"
   ]
  },
  {
   "cell_type": "code",
   "execution_count": null,
   "id": "7596103f",
   "metadata": {},
   "outputs": [],
   "source": [
    "import numpy as np\n",
    "import pandas as pd\n",
    "import matplotlib.pyplot as plt\n",
    "\n",
    "# Read in the same Old Faithful Geyser data that we used before\n",
    "df = pd.read_csv('old_faithful_geyser_eruption_time.csv')\n",
    "print(len(df))\n",
    "df.head()"
   ]
  },
  {
   "cell_type": "code",
   "execution_count": null,
   "id": "8994afe7",
   "metadata": {},
   "outputs": [],
   "source": [
    "# Let's filter out the unused data and rename the columns\n",
    "df.rename(columns={\"Eruption time\":\"Eruption\", \"Waiting time\":\"Waiting\"}, inplace=True)\n",
    "df.drop(columns=[\"Unnamed: 0\"], inplace=True)\n",
    "df.head()"
   ]
  },
  {
   "cell_type": "code",
   "execution_count": null,
   "id": "a916f4c8",
   "metadata": {},
   "outputs": [],
   "source": []
  },
  {
   "cell_type": "markdown",
   "id": "1b5901d8",
   "metadata": {},
   "source": [
    "## Data Cleaning ##\n",
    "\n",
    "Verify the quality of the data by looking for missing fields."
   ]
  },
  {
   "cell_type": "code",
   "execution_count": null,
   "id": "999f745f",
   "metadata": {},
   "outputs": [],
   "source": [
    "# What type of data do we have? Numerical data is the easiest to spot errors\n",
    "df.dtypes"
   ]
  },
  {
   "cell_type": "code",
   "execution_count": null,
   "id": "e515c8a4",
   "metadata": {},
   "outputs": [],
   "source": [
    "# It's numerical data, see if we're missing any fields\n",
    "null_df = df.isnull()\n",
    "null_df.head()"
   ]
  },
  {
   "cell_type": "code",
   "execution_count": null,
   "id": "f13c1c0c",
   "metadata": {},
   "outputs": [],
   "source": [
    "# Let's count the number of nulls per row\n",
    "null_count = null_df.sum(axis=1)\n",
    "null_count.head()"
   ]
  },
  {
   "cell_type": "code",
   "execution_count": null,
   "id": "12d79da5",
   "metadata": {},
   "outputs": [],
   "source": [
    "# Can't see all 272 rows, so put the worst offenders on top\n",
    "null_count.sort_values(ascending=False)"
   ]
  },
  {
   "cell_type": "code",
   "execution_count": null,
   "id": "451c78f6",
   "metadata": {},
   "outputs": [],
   "source": [
    "# One liner to show the top-10 rows that are worst offenders\n",
    "df.isnull().sum(axis=1).sort_values(ascending=False)[:10]"
   ]
  },
  {
   "cell_type": "code",
   "execution_count": null,
   "id": "03519bc5",
   "metadata": {},
   "outputs": [],
   "source": []
  },
  {
   "cell_type": "markdown",
   "id": "d532e91e",
   "metadata": {},
   "source": [
    "## Build the Model ##\n",
    "\n",
    "All sklearn models are pretty much built the same way:\n",
    "* Define a ML model - choose an algorithm and set any algorithm-specific options\n",
    "* Train the model - usually with the `fit` function\n",
    "* Test the model - make sure it is accurate enough (not shown here: only for ***supervised*** algorithms)\n",
    "* Make predictions - usually with the `predict` function"
   ]
  },
  {
   "cell_type": "code",
   "execution_count": null,
   "id": "de3a24d0",
   "metadata": {},
   "outputs": [],
   "source": [
    "from sklearn.cluster import KMeans\n",
    "\n",
    "# Define the model: K-Means with 2 clusters\n",
    "km = KMeans(n_clusters=2, n_init='auto', max_iter=10)\n",
    "\n",
    "# Fit the model to the data: runs K-Mean to find centroids\n",
    "# note: the variable name \"cluster_centers_\" has been slightly different with older versions of sklearn\n",
    "km.fit(df[['Eruption', 'Waiting']])\n",
    "centroids = km.cluster_centers_\n",
    "\n",
    "# Assign \"new\" samples to each centroid; for data-mining, we often just use the original data\n",
    "df['Clusters'] = km.predict(df[['Eruption', 'Waiting']])"
   ]
  },
  {
   "cell_type": "code",
   "execution_count": null,
   "id": "336bcd76",
   "metadata": {},
   "outputs": [],
   "source": [
    "# Let's look at the output\n",
    "print(centroids)\n",
    "print()\n",
    "df.head()"
   ]
  },
  {
   "cell_type": "code",
   "execution_count": null,
   "id": "6b31e3a3",
   "metadata": {},
   "outputs": [],
   "source": []
  },
  {
   "cell_type": "markdown",
   "id": "60ab391a",
   "metadata": {},
   "source": [
    "## Visualize the Results ##\n",
    "\n",
    "Clustering algorithms are unique because we don't have labeled data to test against. Since this is a 2-D problem, we can just look at a plot and see if \"looks\" right. There are more sophisiticated measurements that allow us to quantify the accuracy. These are important for problems of higher dimension. We aren't going to worry about them for now... just plot the thing."
   ]
  },
  {
   "cell_type": "code",
   "execution_count": null,
   "id": "d8d9df59",
   "metadata": {},
   "outputs": [],
   "source": [
    "# We must map cluster labels to colors\n",
    "colors = (\"royalblue\", \"orangered\")\n",
    "\n",
    "# Plot the clusters and centroids\n",
    "plt.figure(figsize=(6,6))\n",
    "plt.scatter(df['Eruption'], df['Waiting'], c=[colors[clus_id] for clus_id in df['Clusters']])\n",
    "plt.scatter(x=centroids[:,0], y=centroids[:,1], marker=\"+\", c='black')\n",
    "plt.plot()"
   ]
  },
  {
   "cell_type": "code",
   "execution_count": null,
   "id": "c3c20e77",
   "metadata": {},
   "outputs": [],
   "source": []
  },
  {
   "cell_type": "markdown",
   "id": "61d9ca9c",
   "metadata": {},
   "source": [
    "## Problems ##\n",
    "\n",
    "Oh-snap! It looks as though our KMeans has made an error. The funny thing is that your custom implementation is going to make the same \"mistake\" as the scikit-learn model.\n",
    "\n",
    "* Look closely at the far-left blue point. It sure looks a lot closer to the orange centroid that it does to the blue centroid.\n",
    "* Now look closely at the far-right orange point. It looks to be closer to the blue centroid than to the orange centroid.\n",
    "\n",
    "Why are these two samples mislabeled? Are there other points that are mislabled, just not to such an extreme? And why did we have to bring politics into a machine learning discussion?\n",
    "\n",
    "*By the way, there are actually six samples that have been clustered incorrectly.*\n",
    "\n",
    "The problem is that the two variables are using different scales. The eruption time is relatively small (<10) and the waiting time is relatively large (40-100). Variable with higher ranges have more influence on the overall outcome than variables with lower ranges. It's just an artifact of the way we calculate distance."
   ]
  },
  {
   "cell_type": "code",
   "execution_count": null,
   "id": "cf32afbb",
   "metadata": {},
   "outputs": [],
   "source": [
    "# Seaborn is a plotting library on top of matplotlib\n",
    "# It has fancier graphs and a different visual style\n",
    "import seaborn as sns\n",
    "sns.boxplot(x=df['Eruption'])\n",
    "plt.show()"
   ]
  },
  {
   "cell_type": "code",
   "execution_count": null,
   "id": "11aa7091",
   "metadata": {},
   "outputs": [],
   "source": [
    "# Boxplots show the median value, Q1 and Q3 of the Interquartile Range (IRQ), and any outliers.\n",
    "# Outliers are defined as being less than Q1-1.5*IQR or being more than Q3+1.5*IQR.\n",
    "# There are no outliers shown in either of these two boxplots.\n",
    "sns.boxplot(x=df['Waiting'])\n",
    "plt.show()"
   ]
  },
  {
   "cell_type": "code",
   "execution_count": null,
   "id": "97a89f1e",
   "metadata": {},
   "outputs": [],
   "source": []
  },
  {
   "cell_type": "markdown",
   "id": "88388857",
   "metadata": {},
   "source": [
    "## Normalization ##\n",
    "\n",
    "We can mitigate this problem by scaling all variables to use the same range, between 0 and 1. After scaling, the distribution of datapoints will not change even though their literal values will be different. If done correctly, this will give each variable an equal weight without changing any of the statistical properties of the dataset.\n",
    "\n",
    "There are several techniques to scale data. We will learn about one of the most common method, Normalization, today. Another  technique is called Standardization, but it is for another time.\n",
    "\n",
    "Normalize each sample by subtracting the minimum value in the dataset. This will cause the minimum stample to take on the new value of zero. Then divide each sample by the dataset's range. The division will scale each sample properly and the maximum sample will take on a value of one.\n",
    "\n",
    "$$x'=\\frac{x-x_{min}}{x_{max}-x_{min}}$$"
   ]
  },
  {
   "cell_type": "code",
   "execution_count": null,
   "id": "2f527cb3",
   "metadata": {},
   "outputs": [],
   "source": [
    "from sklearn.preprocessing import MinMaxScaler\n",
    "\n",
    "# Here's the same result using sklearn\n",
    "scaler = MinMaxScaler()\n",
    "df[['Waiting', 'Eruption']] = scaler.fit_transform(df[['Waiting', 'Eruption']])\n",
    "df.head()"
   ]
  },
  {
   "cell_type": "code",
   "execution_count": null,
   "id": "57b0d3c2",
   "metadata": {},
   "outputs": [],
   "source": [
    "ax1 = sns.boxplot(x=df['Eruption'])\n",
    "plt.show()"
   ]
  },
  {
   "cell_type": "code",
   "execution_count": null,
   "id": "20d46edb",
   "metadata": {
    "scrolled": true
   },
   "outputs": [],
   "source": [
    "sns.boxplot(x=df['Waiting'])\n",
    "plt.show()"
   ]
  },
  {
   "cell_type": "code",
   "execution_count": null,
   "id": "959b8811",
   "metadata": {},
   "outputs": [],
   "source": []
  },
  {
   "attachments": {
    "geyser_normalized.png": {
     "image/png": "[encoded data removed]"
    }
   },
   "cell_type": "markdown",
   "id": "3cc6a362",
   "metadata": {},
   "source": [
    "## Exercise ##\n",
    "\n",
    "Your task is to use SKLearn to recreate the KMeans model using ***normalized*** data. If programmed correctly, you'll see that all six of the mislabeled datapoints clustered correctly. \n",
    "\n",
    "### KMeans with Normalized Data ###\n",
    "\n",
    "We'll draw the original model next to the normalized model. This allows us to evaluate the two models side-by-side. The left diagram should use raw data and the right diagram should use normalized data. The left diagram is already finished.\n",
    "\n",
    "![geyser_normalized.png](attachment:geyser_normalized.png)"
   ]
  },
  {
   "cell_type": "code",
   "execution_count": null,
   "id": "bf272320",
   "metadata": {},
   "outputs": [],
   "source": [
    "# Read and preprocess the data\n",
    "df = pd.read_csv('old_faithful_geyser_eruption_time.csv')\n",
    "df.rename(columns={\"Eruption time\":\"Eruption\", \"Waiting time\":\"Waiting\"}, inplace=True)\n",
    "df.drop(columns=[\"Unnamed: 0\"], inplace=True)\n",
    "\n",
    "# Create a graph with two separate plots side-by-side\n",
    "fig, ax = plt.subplots(1, 2, figsize=(15,5))\n",
    "colors0 = (\"royalblue\", \"orangered\") # for ax[0]\n",
    "colors1 = colors0[::-1]              # for ax[1]\n",
    "\n",
    "# TODO: Run KMeans on the original data and plot it to ax[0]\n",
    "\n",
    "\n",
    "# TODO: Run KMeans using normalized data and plot it on ax[1]\n",
    "\n",
    "\n",
    "# Show the graph\n",
    "plt.show()"
   ]
  },
  {
   "cell_type": "code",
   "execution_count": null,
   "id": "4007e959",
   "metadata": {},
   "outputs": [],
   "source": []
  }
 ],
 "metadata": {
  "kernelspec": {
   "display_name": "Python 3",
   "language": "python",
   "name": "python3"
  },
  "language_info": {
   "codemirror_mode": {
    "name": "ipython",
    "version": 3
   },
   "file_extension": ".py",
   "mimetype": "text/x-python",
   "name": "python",
   "nbconvert_exporter": "python",
   "pygments_lexer": "ipython3",
   "version": "3.10.11"
  }
 },
 "nbformat": 4,
 "nbformat_minor": 5
}
