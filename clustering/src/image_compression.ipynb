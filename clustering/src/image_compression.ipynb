{
 "cells": [
  {
   "cell_type": "markdown",
   "id": "0d982142",
   "metadata": {},
   "source": [
    "# Image Compression #\n",
    "\n",
    "We can use clustering as a means to compress images. But it's going to work a little differently than what you are used to: Instead of guessing at the number of clusters, we purposely choose the k-value depending on how much compression we desire. The lower the k-value, the higher the compression but the more distorted the picture. The higher the k-value, the lower the compression but the picture will look closer to the original. We'll be using k-values of 256. I chose this number because we can represent 256 clusters with 8 bits.\n",
    "\n",
    "The clustering algorithm will give us a palette of RGB colors that \"represent\" the overall image. So for the 256 cluster algorithm, we'll have 256 colors in our palette. These palette colors are actually the centroids from the algorithm. Once K-means chooses the color palette for us, we'll replace the original pixels with these representative values (e.g., the identity of their cluster).\n",
    "\n",
    "We'll go ahead and use the SKLearn version of K-means as our clustering algorithm. If you'd like to substitute your own version of K-means, that's OK too although it might be slower."
   ]
  },
  {
   "cell_type": "code",
   "execution_count": 2,
   "id": "ae38d099",
   "metadata": {},
   "outputs": [],
   "source": [
    "import numpy as np\n",
    "from sklearn.cluster import KMeans\n",
    "from matplotlib.image import imread\n",
    "import matplotlib.pyplot as plt"
   ]
  },
  {
   "cell_type": "code",
   "execution_count": null,
   "id": "cc4feb5f",
   "metadata": {},
   "outputs": [],
   "source": []
  },
  {
   "cell_type": "markdown",
   "id": "68d713fb",
   "metadata": {},
   "source": [
    "## Preprocessing ##\n",
    "\n",
    "Load the image file from disk and reshape it from a 2D dataset of RGB pixels to a really long sequence of RGB pixels one after the other. Basically, we're going to tack the second row to the end of the first row, the third row to the end of the second row, the fourth row to the end of the third row, and so on for the entire image."
   ]
  },
  {
   "cell_type": "code",
   "execution_count": null,
   "id": "4437a19f",
   "metadata": {},
   "outputs": [],
   "source": [
    "IMAGE_FILE = 'hershey.bmp'\n",
    "\n",
    "# Read the file from disk\n",
    "img = imread(IMAGE_FILE)\n",
    "print(f\"\\nnumpy shape = {img.shape}\")\n",
    "\n",
    "(height, width, depth) = img.shape\n",
    "print(f\"Height = {height} pixels\")\n",
    "print(f\"Width = {width} pixels\")\n",
    "print(f\"Depth = {depth} bytes\")\n",
    "\n",
    "print(\"Pixels:\")\n",
    "print(img)"
   ]
  },
  {
   "cell_type": "code",
   "execution_count": null,
   "id": "a9ba39b7",
   "metadata": {},
   "outputs": [],
   "source": [
    "# Double check that we have the right image\n",
    "plt.title(IMAGE_FILE)\n",
    "plt.imshow(img)\n",
    "plt.axis('off')\n",
    "plt.show()"
   ]
  },
  {
   "cell_type": "code",
   "execution_count": null,
   "id": "bda29184",
   "metadata": {},
   "outputs": [],
   "source": [
    "# Convert image from HxWxD array to just a long list of pixel values\n",
    "print(f\"before reshape = {img.shape}\")\n",
    "X = img.reshape(width * height, depth)\n",
    "print(f\" after reshape = {X.shape}\")"
   ]
  },
  {
   "cell_type": "code",
   "execution_count": null,
   "id": "302c1ead",
   "metadata": {},
   "outputs": [],
   "source": [
    "# Show that the rows are just placed one after the other\n",
    "print(\"Before:\")\n",
    "print(img[0][0:3])\n",
    "print()\n",
    "print(\"After:\")\n",
    "print(X[0:3])"
   ]
  },
  {
   "cell_type": "code",
   "execution_count": null,
   "id": "6614bd7c",
   "metadata": {},
   "outputs": [],
   "source": []
  },
  {
   "cell_type": "markdown",
   "id": "c5126030",
   "metadata": {},
   "source": [
    "## Compress the Data ##\n",
    "\n",
    "The K-means Algorithm will cluster the individual pixels and give us $k$ representative colors that are somewhat similar to the individual samples (pixel colors) in the cluster. The centroids will be our new (compressed) RGB values and the labels will identify each pixel and which compressed color represents it."
   ]
  },
  {
   "cell_type": "code",
   "execution_count": null,
   "id": "dbefa6b4",
   "metadata": {},
   "outputs": [],
   "source": [
    "NUMBER_OF_COLORS = 256\n",
    "\n",
    "# Runs the K-means algorithm multiple times and select the best cluster score\n",
    "km = KMeans(n_clusters=NUMBER_OF_COLORS, n_init='auto')\n",
    "km.fit(X)\n",
    "print(\"Palette Identified\")"
   ]
  },
  {
   "cell_type": "code",
   "execution_count": null,
   "id": "1b1780ed",
   "metadata": {},
   "outputs": [],
   "source": [
    "# The new pixel values are just the cluster IDs\n",
    "pixels = km.labels_.astype(np.uint8)\n",
    "print(f\"{len(pixels)} Compressed Pixels:  {pixels[0]} {pixels[1]} ... {pixels[-2]} {pixels[-1]}\")\n",
    "\n",
    "# We need to store the original RGB colors of each pixel\n",
    "# This \"color palette\" will map cluster IDs back to the correct RGB colors\n",
    "# Since the RGB values come from our K-means centroids, they are float values\n",
    "# that must be converted to integers: round then truncate for accuracy\n",
    "palette = np.round(km.cluster_centers_, 0).astype(np.uint8)\n",
    "print(f\"{len(palette)} Palette Colors: {palette[0]} {palette[1]} ... {palette[-2]} {palette[-1]}\")"
   ]
  },
  {
   "cell_type": "code",
   "execution_count": null,
   "id": "c6c8bffb",
   "metadata": {},
   "outputs": [],
   "source": []
  },
  {
   "cell_type": "markdown",
   "id": "39949f7d",
   "metadata": {},
   "source": [
    "### Exploring the Compressed Data ###\n",
    "\n",
    "The original data contained pixels that were defined by three 8-bit numbers (R, G, and B). We've used K-means to select 256 representative colors. This means we'll have taken 3 x 8-bit numbers (24 bits) and compressed it down to a single 8-bit number. That's approximately a compression ratio of $3 \\rightarrow 1$.\n",
    "\n",
    "We say *approximately* the compression ratio instead of *exactly* the compression ratio becuase in addition to storing the 8-bit pixel values, we also have to store the full RGB values for the 256 colors in the palette. But this factor is negligible."
   ]
  },
  {
   "cell_type": "code",
   "execution_count": null,
   "id": "8a8c4769",
   "metadata": {},
   "outputs": [],
   "source": [
    "# original first 5 pixels\n",
    "print(\"Original Data\")\n",
    "print(img[0][0:5])\n",
    "\n",
    "# First 5 pixels with their new reprentative\n",
    "print(\"\\nCompressed Data\")\n",
    "print(pixels[:5])\n",
    "\n",
    "print(\"\\nWhat is compressed color #{}?\".format(pixels[0]))\n",
    "print(palette[pixels[0]])"
   ]
  },
  {
   "cell_type": "code",
   "execution_count": null,
   "id": "655723ea",
   "metadata": {
    "scrolled": false
   },
   "outputs": [],
   "source": [
    "print(\"Here are all the colors:\")\n",
    "print(palette)"
   ]
  },
  {
   "cell_type": "code",
   "execution_count": null,
   "id": "932fd9bb",
   "metadata": {},
   "outputs": [],
   "source": []
  },
  {
   "cell_type": "markdown",
   "id": "cbbc5641",
   "metadata": {},
   "source": [
    "### Viewing the Color Palette ###\n",
    "\n",
    "Just for fun, let's see what the 16 representative colors look like. We'll create an 8x8 plot where each plot shows a 100x100 solid block of color."
   ]
  },
  {
   "cell_type": "code",
   "execution_count": null,
   "id": "f0bd0fd1",
   "metadata": {
    "scrolled": true
   },
   "outputs": [],
   "source": [
    "# Let's try creating a 100x100 block and see what it looks like\n",
    "block = np.full([100, 100, 3], palette[0])\n",
    "block[0][:5]"
   ]
  },
  {
   "cell_type": "code",
   "execution_count": null,
   "id": "80f5cec5",
   "metadata": {},
   "outputs": [],
   "source": [
    "# That worked, so now let's create 32 of these blocks, one for each color in our palette\n",
    "blocks = [np.full([100, 100, 3], color) for color in palette]\n",
    "for i in range(5):\n",
    "    print(f\"Palette Color #{i}\")\n",
    "    print(f\"{blocks[i][0][:3]}\\n\")"
   ]
  },
  {
   "cell_type": "code",
   "execution_count": null,
   "id": "302b99e2",
   "metadata": {},
   "outputs": [],
   "source": [
    "# And now we'll plot them to the screen\n",
    "fig, ax = plt.subplots(8, 8, figsize=(8,8))\n",
    "for i in range(ax.shape[0]):\n",
    "    for j in range(ax.shape[1]):\n",
    "        ax[i][j].axis('off')\n",
    "        color_index = i*2+j\n",
    "        ax[i][j].imshow(blocks[color_index])\n",
    "plt.show()"
   ]
  },
  {
   "cell_type": "code",
   "execution_count": null,
   "id": "33e1bea2",
   "metadata": {},
   "outputs": [],
   "source": []
  },
  {
   "cell_type": "markdown",
   "id": "9a885447",
   "metadata": {},
   "source": [
    "## Saving/Loading the Compressed Image ##\n",
    "\n",
    "To save the image we would need to store the palette, the sequence of pixels (ID#s from the palette), and a few other pieces of information.\n",
    "\n",
    "Here is each piece of data, probably in the reverse order that it should appear in our file. "
   ]
  },
  {
   "cell_type": "code",
   "execution_count": null,
   "id": "e74cf9cc",
   "metadata": {},
   "outputs": [],
   "source": [
    "# 1. We'll need to save the pixels\n",
    "pixels[:1000]"
   ]
  },
  {
   "cell_type": "code",
   "execution_count": null,
   "id": "427caeeb",
   "metadata": {},
   "outputs": [],
   "source": [
    "# 2. We'll need to save the palette\n",
    "palette"
   ]
  },
  {
   "cell_type": "code",
   "execution_count": null,
   "id": "60f8ecae",
   "metadata": {},
   "outputs": [],
   "source": [
    "# 3. How about the dimensions of the picture?\n",
    "width, height"
   ]
  },
  {
   "cell_type": "code",
   "execution_count": null,
   "id": "44275d74",
   "metadata": {},
   "outputs": [],
   "source": [
    "# 4. Don't forget that we'll need to explicitely save the number of colors in the palette (256)\n",
    "len(palette)"
   ]
  },
  {
   "cell_type": "code",
   "execution_count": null,
   "id": "597c011e",
   "metadata": {},
   "outputs": [],
   "source": [
    "# 5. Some sort of header field that identifies this as a K-means Clustering Compressed Image\n",
    "header = 'KMC:'\n",
    "print(header)"
   ]
  },
  {
   "cell_type": "code",
   "execution_count": null,
   "id": "a70965c5",
   "metadata": {},
   "outputs": [],
   "source": []
  },
  {
   "cell_type": "markdown",
   "id": "d293794c",
   "metadata": {},
   "source": [
    "## Displaying a Compressed Image ##\n",
    "\n",
    "Remember, the compressed image is nothing more than the color palette, a sequence of pixel values, and the dimensions of the picture. But there isn't any code written to display images in this format. We'll need to expand/convert our data back to a form that can be used by standard image libraries on our computer.\n",
    "\n",
    "To display one of our compressed images, we'll need to:\n",
    " 1. Expand each pixel from its compressed representative value (e.g., 0-255) to the actual 24-bit RGB pixel value (e.g., RGB: 235, 195, 182).\n",
    " 2. Reshape the data back to a 2D array of RGB pixels."
   ]
  },
  {
   "cell_type": "code",
   "execution_count": null,
   "id": "824034dc",
   "metadata": {
    "scrolled": true
   },
   "outputs": [],
   "source": [
    "# This creates a new array that is the same size as pixel array but with pixel data instead of cluster IDs\n",
    "# Each element in the array is the result of looking up the cluster ID value in the colors32 palette\n",
    "print(f\"Original shape of pixels sequence: {pixels.shape}\")\n",
    "print(f\"Sample pixels: {pixels[:5]}\")\n",
    "compressed_img = palette[pixels]\n",
    "print(f\"New shape of the expanded pixels: {compressed_img.shape}\")\n",
    "print(f\"Sample of expanded pixels: {compressed_img[:5]}\")"
   ]
  },
  {
   "cell_type": "code",
   "execution_count": null,
   "id": "214d8e51",
   "metadata": {},
   "outputs": [],
   "source": [
    "compressed_img = compressed_img.reshape(height, width, depth)\n",
    "print(\"Final shape after converting to 2D:\", compressed_img.shape)"
   ]
  },
  {
   "cell_type": "code",
   "execution_count": null,
   "id": "29eb4fbd",
   "metadata": {
    "scrolled": false
   },
   "outputs": [],
   "source": [
    "fig, ax = plt.subplots(1, 2, figsize=(10,10))\n",
    "\n",
    "ax[0].set_title('Original Image')\n",
    "ax[0].imshow(img)\n",
    "ax[0].axis('off')\n",
    "\n",
    "ax[1].set_title('256 Color Compressed Image')\n",
    "ax[1].imshow(compressed_img)\n",
    "ax[1].axis('off')\n",
    "\n",
    "plt.tight_layout()\n",
    "plt.show()"
   ]
  },
  {
   "cell_type": "code",
   "execution_count": null,
   "id": "95a9d4e0",
   "metadata": {},
   "outputs": [],
   "source": []
  }
 ],
 "metadata": {
  "kernelspec": {
   "display_name": "Python 3",
   "language": "python",
   "name": "python3"
  },
  "language_info": {
   "codemirror_mode": {
    "name": "ipython",
    "version": 3
   },
   "file_extension": ".py",
   "mimetype": "text/x-python",
   "name": "python",
   "nbconvert_exporter": "python",
   "pygments_lexer": "ipython3",
   "version": "3.10.11"
  }
 },
 "nbformat": 4,
 "nbformat_minor": 5
}
