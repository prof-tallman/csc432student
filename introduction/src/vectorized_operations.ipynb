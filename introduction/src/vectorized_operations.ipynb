{
 "cells": [
  {
   "cell_type": "markdown",
   "id": "0df3cc03",
   "metadata": {},
   "source": [
    "# Numpy Vectorized Operations and Broadcasting #\n",
    "\n"
   ]
  },
  {
   "cell_type": "markdown",
   "id": "694bb556",
   "metadata": {},
   "source": [
    "## Traditional Processing ##\n",
    "\n",
    "Most Python programmers are familiar with the List object, denoted with the `[` and `]` operators. Lists can be used like a dynamic array that grows and shrinks at runtime. They can be accessed by index number and are the basis of many data structures."
   ]
  },
  {
   "cell_type": "code",
   "execution_count": null,
   "id": "7596103f",
   "metadata": {},
   "outputs": [],
   "source": [
    "data = [ 1, 3, 5, 7, 9 ]\n",
    "for i in range(len(data)):\n",
    "    data[i] = data[i] * 2\n",
    "print(data)"
   ]
  },
  {
   "cell_type": "code",
   "execution_count": null,
   "id": "ffa7459a",
   "metadata": {},
   "outputs": [],
   "source": []
  },
  {
   "cell_type": "markdown",
   "id": "1b5901d8",
   "metadata": {},
   "source": [
    "## Numpy Arrays ##\n",
    "\n",
    "At the root of Numpy is the `ndarray` object, which stands for n-dimensional array. You can create an `ndarray` from scratch, but the constructor is somewhat complicated. It's easier to create them from the simpler `np.array` object."
   ]
  },
  {
   "cell_type": "code",
   "execution_count": null,
   "id": "451c78f6",
   "metadata": {},
   "outputs": [],
   "source": [
    "import numpy as np\n",
    "\n",
    "data = np.array([ 1, 3, 5, 7, 9])\n",
    "for i in range(len(data)):\n",
    "    data[i] = data[i] * 2\n",
    "print(data)"
   ]
  },
  {
   "cell_type": "code",
   "execution_count": null,
   "id": "d1f5afe3",
   "metadata": {},
   "outputs": [],
   "source": []
  },
  {
   "cell_type": "markdown",
   "id": "f95cf0ee",
   "metadata": {},
   "source": [
    "## Numpy Arrays vs Python Lists ##\n",
    "\n",
    "Python programmers may not be as comfortable with Numpy Arrays. Numpy arrays work similar to Lists but they are faster, more powerful, and a little more difficult to program. Numpy Arrays are a very common data structure for machine learning. "
   ]
  },
  {
   "cell_type": "code",
   "execution_count": null,
   "id": "1755b75e",
   "metadata": {},
   "outputs": [],
   "source": [
    "data = [ 1, 3, 5, 7, 9 ]\n",
    "data = data * 2\n",
    "print(data)"
   ]
  },
  {
   "cell_type": "code",
   "execution_count": null,
   "id": "1b2ee60a",
   "metadata": {},
   "outputs": [],
   "source": [
    "data = np.array([ 1, 3, 5, 7, 9])\n",
    "data = data * 2\n",
    "print(data)"
   ]
  },
  {
   "cell_type": "code",
   "execution_count": null,
   "id": "03519bc5",
   "metadata": {},
   "outputs": [],
   "source": []
  },
  {
   "cell_type": "markdown",
   "id": "d532e91e",
   "metadata": {},
   "source": [
    "## Numpy Vectorized Operations ##\n",
    "\n",
    "Vectorized Operations are a special feature in Numpy module that allow you to perform math operations on every element in an array without using loops. They are much faster than traditional Python loops because Numpy was written in C/C++ and compiled. This means that only one line of Python code must be interpreted \"on the fly\" and then each of the individual operations execute immediately in machine code. Additionally, the memory structure of the Numpy array is optimized for such operations.\n",
    "\n",
    "Those of you who have used the Pandas library are familiar with vectorized operations because we use them often on DataFrames. This is because Pandas is built on top of Numpy as uses Numpy arrays to implement DataFrame objects."
   ]
  },
  {
   "cell_type": "code",
   "execution_count": null,
   "id": "de3a24d0",
   "metadata": {},
   "outputs": [],
   "source": [
    "data1 = np.array([ 1, 3, 5 ])\n",
    "data2 = np.array([ 0, 2, 4 ])\n",
    "data = data1 * data2\n",
    "print(data)"
   ]
  },
  {
   "cell_type": "code",
   "execution_count": null,
   "id": "2ef5df81",
   "metadata": {},
   "outputs": [],
   "source": []
  },
  {
   "cell_type": "markdown",
   "id": "be273b96",
   "metadata": {},
   "source": [
    "## Numpy Operations Along an Axis ##\n",
    "\n",
    "Be careful mixing Numpy arrays and traditional math operations. The operation will often succeed, but may not be performing the operation that you want and is far less flexible. Use the Numpy equivalent of these functions and then specify the `axis=` parameter to change which dimension of the array is used (e.g., `sum` vs `np.sum`, `max` vs `np.max`, etc.)"
   ]
  },
  {
   "cell_type": "code",
   "execution_count": null,
   "id": "178a20d7",
   "metadata": {},
   "outputs": [],
   "source": [
    "# Traditional operator\n",
    "data = np.array([ [ 1, 3, 5 ], [ 0, 2, 4 ] ])\n",
    "data = sum(data)\n",
    "print(data)"
   ]
  },
  {
   "cell_type": "code",
   "execution_count": null,
   "id": "1bdf1fdb",
   "metadata": {},
   "outputs": [],
   "source": [
    "# Numpy version\n",
    "data = np.array([ [ 1, 3, 5 ], [ 0, 2, 4 ] ])\n",
    "data = np.sum(data)\n",
    "print(data)"
   ]
  },
  {
   "cell_type": "code",
   "execution_count": null,
   "id": "52941ec1",
   "metadata": {},
   "outputs": [],
   "source": [
    "# Numpy operation based on the first axis (index 0) which is the innermost axis and in this example, a 1-dimensional 3-element array \n",
    "data = np.array([ [ 1, 3, 5 ], [ 0, 2, 4 ] ])\n",
    "data = np.sum(data, axis=0)\n",
    "print(data)"
   ]
  },
  {
   "cell_type": "code",
   "execution_count": null,
   "id": "ecafdb91",
   "metadata": {},
   "outputs": [],
   "source": [
    "# Numpy operation based on the second axis (index 1) which is the outer axis and in this example, a 1-dimensional 2-element array\n",
    "data = np.array([ [ 1, 3, 5 ], [ 0, 2, 4 ] ])\n",
    "data = np.sum(data, axis=1)\n",
    "print(data)"
   ]
  },
  {
   "cell_type": "code",
   "execution_count": null,
   "id": "141f31c4",
   "metadata": {},
   "outputs": [],
   "source": [
    "# Oops, there is no axis at index 2\n",
    "data = np.array([ [ 1, 3, 5 ], [ 0, 2, 4 ] ])\n",
    "data = np.sum(data, axis=2)\n",
    "print(data)"
   ]
  },
  {
   "cell_type": "code",
   "execution_count": null,
   "id": "e6ac789d",
   "metadata": {},
   "outputs": [],
   "source": []
  },
  {
   "cell_type": "markdown",
   "id": "06b8d4f1",
   "metadata": {},
   "source": [
    "## Working in 3+ Dimensions ##\n",
    "\n",
    "Sometimes you will be working with Numpy arrays that are 3 or more dimensions. For example, images are often represented as 3D arrays and a video can be stored as a 4D array. Try to guess the result of each operation and then run the code to confirm your ideas."
   ]
  },
  {
   "cell_type": "code",
   "execution_count": null,
   "id": "771620bb",
   "metadata": {},
   "outputs": [],
   "source": [
    "# Pretend this is a small 2x2 image with pixels that are red, green, blue, and white.\n",
    "image = np.array([ [ [ 255, 0, 0 ], [ 0, 255, 0 ] ], [ [0, 0, 255], [255, 255, 255]]])\n",
    "print(image)\n",
    "\n",
    "# We want to find the total intensity of each pixel, which means we must take the sum."
   ]
  },
  {
   "cell_type": "code",
   "execution_count": null,
   "id": "78012e5b",
   "metadata": {},
   "outputs": [],
   "source": [
    "# What do you think the following line of code will produce?\n",
    "np.sum(image)"
   ]
  },
  {
   "cell_type": "code",
   "execution_count": null,
   "id": "0a97a8ca",
   "metadata": {},
   "outputs": [],
   "source": [
    "# What do you think the following line of code will produce?\n",
    "np.sum(image, axis=0)"
   ]
  },
  {
   "cell_type": "code",
   "execution_count": null,
   "id": "8bb45b90",
   "metadata": {},
   "outputs": [],
   "source": [
    "# What do you think the following line of code will produce?\n",
    "np.sum(image, axis=1)"
   ]
  },
  {
   "cell_type": "code",
   "execution_count": null,
   "id": "fa03e784",
   "metadata": {},
   "outputs": [],
   "source": [
    "# What do you think the following line of code will produce?\n",
    "np.sum(image, axis=2)"
   ]
  },
  {
   "cell_type": "code",
   "execution_count": null,
   "id": "07fd7663",
   "metadata": {},
   "outputs": [],
   "source": []
  },
  {
   "cell_type": "markdown",
   "id": "b9f34c65",
   "metadata": {},
   "source": [
    "## Most Machine Learning Problems use 2D Numpy Arrays ##\n",
    "\n",
    "Thankfully, most Machine Learning (ML) problems use 2D arrays. Each row is considered a single ***sample*** of training data and the columns represent the ***features*** of each sample. If you are working with ***labeled*** data then it means that you know the correct 'answer' for each sample. For example, if we had ML data representing the length of the hypotenuse in a triangle $c = \\sqrt{a^2 + b^2}$, it might look like the following (but remember if you were trying to use ML to solve the hypotenuse length then you wouldn't have the math equation for the Pythagorean Theorem). Note: I have given names to each of the columns here, although most ML algorithms work just fine without the header row that shows the names. \n",
    "\n",
    "| Index | Side A | Side B | Side C |\n",
    "|-------|--------|--------|--------|\n",
    "| 0     | 3      | 4      | 5      |\n",
    "| 1     | 5      | 12     | 13     |\n",
    "| 2     | 7      | 24     | 25     |\n",
    "| 3     | 8      | 15     | 17     |\n",
    "| 4     | 9      | 40     | 41     |\n",
    "\n",
    "Many times we need to separate the labels from the features. We call the labels $y$ and the features $X$. The lowercase $y$ indicates that it is a 1D data whereas the uppercase $X$ means that it is multidimensional."
   ]
  },
  {
   "cell_type": "code",
   "execution_count": null,
   "id": "85bb2ab0",
   "metadata": {},
   "outputs": [],
   "source": [
    "import numpy as np\n",
    "\n",
    "# Although the table above has an index column, this is usually implied using the natural indexing that the array provides.\n",
    "triangle_data = np.array([\n",
    "    [3, 4, 5],\n",
    "    [5, 12, 13],\n",
    "    [7, 24, 25],\n",
    "    [8, 15, 17],\n",
    "    [9, 40, 41]\n",
    "])\n",
    "print(triangle_data)"
   ]
  },
  {
   "cell_type": "code",
   "execution_count": null,
   "id": "d910416e",
   "metadata": {},
   "outputs": [],
   "source": [
    "X = triangle_data[:,0:2]\n",
    "print(X)\n",
    "y = triangle_data[:,-1]\n",
    "print(y)"
   ]
  },
  {
   "cell_type": "code",
   "execution_count": null,
   "id": "d0760cdb",
   "metadata": {},
   "outputs": [],
   "source": []
  },
  {
   "cell_type": "markdown",
   "id": "5242d306",
   "metadata": {},
   "source": [
    "## Fancy Ways of Creating Numpy Arrays ##\n",
    "\n",
    "Thus far, the examples have used hardcoded Python lists to initialize each of the Numpy arrays. This works fine for small examples, but for realistic ML problems, all of the data will come from a CSV file or will be downloaded from the internet. For now we will just worry about CSV files. CSV files can be read directly with Numpy or Pandas. Either option is reasonable because most ML libraries can extract the underlying Numpy array from the Pandas DataFrame.\n",
    "\n",
    "**Note**: Make sure that the file data.csv is in your working directory so that the Jupyter Notebook knows where to find it. If not, you'll need to specify an absolute path. "
   ]
  },
  {
   "cell_type": "code",
   "execution_count": null,
   "id": "d93877c8",
   "metadata": {},
   "outputs": [],
   "source": [
    "import pandas as pd\n",
    "df = pd.read_csv('data.csv')\n",
    "df"
   ]
  },
  {
   "cell_type": "code",
   "execution_count": null,
   "id": "3b902625",
   "metadata": {},
   "outputs": [],
   "source": [
    "X = df[['Side A', 'Side B']]\n",
    "y = df['Side C']\n",
    "print(X)\n",
    "print(y)"
   ]
  },
  {
   "cell_type": "code",
   "execution_count": null,
   "id": "f396743d",
   "metadata": {},
   "outputs": [],
   "source": [
    "import numpy as np\n",
    "\n",
    "data = np.genfromtxt('data.csv', delimiter=',', skip_header=1)\n",
    "print(data)"
   ]
  },
  {
   "cell_type": "code",
   "execution_count": null,
   "id": "6b31e3a3",
   "metadata": {},
   "outputs": [],
   "source": [
    "X = triangle_data[:,0:2]\n",
    "print(X)\n",
    "y = triangle_data[:,-1]\n",
    "print(y)"
   ]
  },
  {
   "cell_type": "code",
   "execution_count": null,
   "id": "b0042750",
   "metadata": {},
   "outputs": [],
   "source": []
  },
  {
   "cell_type": "markdown",
   "id": "cd7c0a2c",
   "metadata": {},
   "source": [
    "## Creating 'Dummy' Arrays ##\n",
    "\n",
    "Many ML computations require you to generate an array of the same size as your data. There are several ways of doing this depending on what you need the initial array values to be."
   ]
  },
  {
   "cell_type": "code",
   "execution_count": null,
   "id": "f463f6fe",
   "metadata": {},
   "outputs": [],
   "source": [
    "import numpy as np\n",
    "\n",
    "arr = np.ones((5, 3))\n",
    "print(arr)"
   ]
  },
  {
   "cell_type": "code",
   "execution_count": null,
   "id": "397eef88",
   "metadata": {},
   "outputs": [],
   "source": [
    "arr = np.zeros((2, 12))\n",
    "print(arr)"
   ]
  },
  {
   "cell_type": "code",
   "execution_count": null,
   "id": "6edcff0e",
   "metadata": {},
   "outputs": [],
   "source": [
    "a = np.full((4, 3), 42)\n",
    "print(a)"
   ]
  },
  {
   "cell_type": "code",
   "execution_count": null,
   "id": "44003d26",
   "metadata": {},
   "outputs": [],
   "source": [
    "a = np.array([ np.arange(0, 5, 0.5), np.arange(5, 0, -0.5) ])\n",
    "print(a)"
   ]
  },
  {
   "cell_type": "code",
   "execution_count": null,
   "id": "f75b2e45",
   "metadata": {},
   "outputs": [],
   "source": [
    "a = a.flatten()\n",
    "print(a)"
   ]
  },
  {
   "cell_type": "code",
   "execution_count": null,
   "id": "eaab5504",
   "metadata": {},
   "outputs": [],
   "source": [
    "a = a.reshape((2, 10))\n",
    "print(a)"
   ]
  },
  {
   "cell_type": "code",
   "execution_count": null,
   "id": "a127479e",
   "metadata": {},
   "outputs": [],
   "source": [
    "b = a.copy()\n",
    "b[1,-1] = 100\n",
    "print(a)\n",
    "print(b)"
   ]
  },
  {
   "cell_type": "code",
   "execution_count": null,
   "id": "13490f19",
   "metadata": {},
   "outputs": [],
   "source": []
  },
  {
   "cell_type": "markdown",
   "id": "60ab391a",
   "metadata": {},
   "source": [
    "## Broadcasting ##\n",
    "\n",
    "Numpy Broadcasting is closely related to Vectorized Operations and the two often go hand-in-hand. Broadcasting allows you to take two arrays of different dimensions and perform a mathematical operation that requires them to be the same size. Broadcasting is applied automatically and occurs \"under the hood\" without the programmer having to explicitely specify it. You've already used broadcasting in this notebook without realizing it.  "
   ]
  },
  {
   "cell_type": "code",
   "execution_count": null,
   "id": "f7b17483",
   "metadata": {},
   "outputs": [],
   "source": [
    "# Broadcasting extends the integer 2 into a 5 element array [2, 2, 2, 2, 2] and then vectorized operations perform the element-wise multiplication \n",
    "data = np.array([ 1, 3, 5, 7, 9])\n",
    "data = data * 2\n",
    "print(data)"
   ]
  },
  {
   "cell_type": "code",
   "execution_count": null,
   "id": "305dffc4",
   "metadata": {},
   "outputs": [],
   "source": []
  },
  {
   "cell_type": "markdown",
   "id": "6421865f",
   "metadata": {},
   "source": [
    "Broadcasting is pretty simple when 1D arrays and scalars are being used, but it can become complicated quickly when working with two multidementional arrays."
   ]
  },
  {
   "cell_type": "code",
   "execution_count": null,
   "id": "7c85f25d",
   "metadata": {},
   "outputs": [],
   "source": [
    "# Calculate the Euclidean Distance between two points (e.g., it's basically the Pythagorean Theorem)\n",
    "#   Each array is a single point \n",
    "#   So (0,0) to (3,4) is a distance of 5: remember 3,4,5 triangles from geometry\n",
    "p1 = np.array([0, 0])\n",
    "p2 = np.array([3, 4])\n",
    "print(np.sqrt(np.sum((p1 - p2)**2)))"
   ]
  },
  {
   "cell_type": "code",
   "execution_count": null,
   "id": "94896ece",
   "metadata": {},
   "outputs": [],
   "source": [
    "# One array is a single point but the other is an array of multiple points...\n",
    "#   ...and the answer is probably not what we intended\n",
    "p1 = np.array([0, 0])\n",
    "p2 = np.array([[3, 4], [6, 8], [9, 12]])\n",
    "print(np.sqrt(np.sum((p1 - p2)**2)))"
   ]
  },
  {
   "cell_type": "code",
   "execution_count": null,
   "id": "1251462f",
   "metadata": {},
   "outputs": [],
   "source": [
    "#   ...Still probably not what we intended (it's the wrong axis)\n",
    "p1 = np.array([0, 0])\n",
    "p2 = np.array([[3, 4], [6, 8], [9, 12]])\n",
    "print(np.sqrt(np.sum((p1 - p2)**2, axis=0)))"
   ]
  },
  {
   "cell_type": "code",
   "execution_count": null,
   "id": "904224e4",
   "metadata": {},
   "outputs": [],
   "source": [
    "#   ...That's the right one!\n",
    "p1 = np.array([0, 0])\n",
    "p2 = np.array([[3, 4], [6, 8], [9, 12]])\n",
    "print(np.sqrt(np.sum((p1 - p2)**2, axis=1)))"
   ]
  },
  {
   "cell_type": "code",
   "execution_count": null,
   "id": "222f5fde",
   "metadata": {},
   "outputs": [],
   "source": [
    "# What if we have two lists of points and we want the distance from each point in one list to each point in the other?\n",
    "p1 = np.array([[0, 0], [-3, -4,], [-6, -8]])\n",
    "p2 = np.array([[3, 4], [6, 8], [9, 12]])\n",
    "print(np.sqrt(np.sum((p1 - p2)**2)))\n",
    "print(np.sqrt(np.sum((p1 - p2)**2, axis=0)))\n",
    "print(np.sqrt(np.sum((p1 - p2)**2, axis=1)))"
   ]
  },
  {
   "cell_type": "code",
   "execution_count": null,
   "id": "dbc06411",
   "metadata": {},
   "outputs": [],
   "source": [
    "# This tells Numpy to create a larger object to fit all of the results\n",
    "p1 = np.array([[0, 0], [-3, -4,], [-6, -8]])\n",
    "p2 = np.array([[3, 4], [6, 8], [9, 12]])\n",
    "print(np.sqrt(np.sum((p1[:, np.newaxis, :] - p2[np.newaxis, :, :]) ** 2, axis=2)))\n"
   ]
  },
  {
   "cell_type": "markdown",
   "id": "483767cb",
   "metadata": {},
   "source": [
    "That last line of code expanded the dimensions of the output array and seemed pretty helpful. But what if we wanted to use the same code for two different situations? In the first situation, we want to calculate the euclidean distance from a single point to an array of points. In the second situation, we want to compare two arrays of points."
   ]
  },
  {
   "cell_type": "code",
   "execution_count": 98,
   "id": "75a2c298",
   "metadata": {},
   "outputs": [],
   "source": [
    "def euclid(p1, p2):\n",
    "    return np.sqrt(np.sum((p1[:, np.newaxis, :] - p2[np.newaxis, :, :]) ** 2, axis=2))"
   ]
  },
  {
   "cell_type": "code",
   "execution_count": null,
   "id": "826a9d24",
   "metadata": {},
   "outputs": [],
   "source": [
    "# The old code doesn't seem to work\n",
    "p1 = np.array([0, 0])\n",
    "p2 = np.array([[3, 4], [6, 8], [9, 12]])\n",
    "print(euclid(p1, p2)) "
   ]
  },
  {
   "cell_type": "code",
   "execution_count": null,
   "id": "9fae0b6f",
   "metadata": {},
   "outputs": [],
   "source": [
    "# We can turn the singleton point into an array of points that happens to just have one element in it.\n",
    "p1 = np.array([[0, 0]])\n",
    "p2 = np.array([[3, 4], [6, 8], [9, 12]])\n",
    "print(euclid(p1, p2)) "
   ]
  },
  {
   "cell_type": "code",
   "execution_count": null,
   "id": "705f81c5",
   "metadata": {},
   "outputs": [],
   "source": [
    "# Or even find the distance between two single points\n",
    "p1 = np.array([[0, 0]])\n",
    "p2 = np.array([[3, 4]])\n",
    "print(euclid(p1, p2)) "
   ]
  },
  {
   "cell_type": "code",
   "execution_count": null,
   "id": "699a84bd",
   "metadata": {},
   "outputs": [],
   "source": []
  },
  {
   "cell_type": "markdown",
   "id": "ebdeca5a",
   "metadata": {},
   "source": [
    "# Practice, Practice, Practice, and Research #\n",
    "\n",
    "How did I know about this crazy line of code?\n",
    "\n",
    "```np.sqrt(np.sum((p1[:, np.newaxis, :] - p2[np.newaxis, :, :]) ** 2, axis=2))```\n",
    "\n",
    "Lots of practice with simpler code and lots of reading Stackoverflow, the Numpy documentation, and of course some questions to ChatGPT. I don't think any one of these resources on their own would have been enough for me to understand and write the code, but together it all worked together quite nicely. "
   ]
  },
  {
   "cell_type": "code",
   "execution_count": null,
   "id": "27bfc6cf",
   "metadata": {},
   "outputs": [],
   "source": []
  }
 ],
 "metadata": {
  "kernelspec": {
   "display_name": "Python 3",
   "language": "python",
   "name": "python3"
  },
  "language_info": {
   "codemirror_mode": {
    "name": "ipython",
    "version": 3
   },
   "file_extension": ".py",
   "mimetype": "text/x-python",
   "name": "python",
   "nbconvert_exporter": "python",
   "pygments_lexer": "ipython3",
   "version": "3.12.8"
  }
 },
 "nbformat": 4,
 "nbformat_minor": 5
}
