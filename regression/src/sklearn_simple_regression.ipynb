{
 "cells": [
  {
   "cell_type": "code",
   "execution_count": null,
   "id": "1a12ade7",
   "metadata": {},
   "outputs": [],
   "source": [
    "import numpy as np\n",
    "import matplotlib.pyplot as plt\n",
    "\n",
    "data = np.genfromtxt('linear_regression.csv', delimiter=',', skip_header=1)\n",
    "X = data[:,0]\n",
    "y = data[:,1]\n",
    "\n",
    "print(f\"X ({X.shape}): {X[:5]}...\")\n",
    "print(f\"y ({y.shape}): {y[:5]}...\")\n",
    "\n",
    "plt.figure(figsize=(4, 4))\n",
    "plt.plot(X, y, '.')\n",
    "plt.show()"
   ]
  },
  {
   "cell_type": "code",
   "execution_count": null,
   "id": "126edbbc",
   "metadata": {},
   "outputs": [],
   "source": [
    "from sklearn.linear_model import LinearRegression\n",
    "\n",
    "model = LinearRegression()\n",
    "model.fit(X, y)\n",
    "print(\"Model Trained!\")"
   ]
  },
  {
   "cell_type": "code",
   "execution_count": null,
   "id": "ee1409cd",
   "metadata": {},
   "outputs": [],
   "source": [
    "from sklearn.linear_model import LinearRegression\n",
    "\n",
    "print(f\"X ({X.shape}): {X[:5]}...\")\n",
    "X = X.reshape(-1, 1)\n",
    "print(f\"X ({X.shape}): {X[:5]}...\")\n",
    "\n",
    "print(f\"y ({y.shape}): {y[:5]}...\")\n",
    "y = y.reshape(-1, 1)\n",
    "print(f\"y ({y.shape}): {y[:5]}...\")\n",
    "\n",
    "model = LinearRegression()\n",
    "model.fit(X, y)\n",
    "print(\"Model Trained!\")"
   ]
  },
  {
   "cell_type": "code",
   "execution_count": null,
   "id": "63cc9dc8",
   "metadata": {},
   "outputs": [],
   "source": [
    "m = model.coef_[0]\n",
    "b = model.intercept_\n",
    "print(f\"y = {m} * x + {b}\")"
   ]
  },
  {
   "cell_type": "code",
   "execution_count": null,
   "id": "9791a90e",
   "metadata": {},
   "outputs": [],
   "source": [
    "x0 = np.min(X)\n",
    "x1 = np.max(X)\n",
    "y0 = m * x0 + b\n",
    "y1 = m * x1 + b\n",
    "\n",
    "plt.figure(figsize=(4, 4))\n",
    "plt.plot(X, y, '.')\n",
    "plt.plot((x0, x1), (y0, y1), 'r-')\n",
    "plt.show()"
   ]
  },
  {
   "cell_type": "code",
   "execution_count": null,
   "id": "3ba61640",
   "metadata": {},
   "outputs": [],
   "source": [
    "def linear_gradient_descent(X, y, alpha=0.01, num_iterations=1000):   \n",
    "    m = len(X)\n",
    "    theta_0 = theta_1 = 0\n",
    "    for _ in range(num_iterations):\n",
    "        predicted_values = theta_0 + theta_1 * X\n",
    "        predicted_errors = predicted_values - y\n",
    "        scaled_errors = predicted_errors * X\n",
    "        theta_0 = theta_0 - alpha * predicted_errors.sum() / m\n",
    "        theta_1 = theta_1 - alpha * scaled_errors.sum() / m\n",
    "    \n",
    "    return theta_1, theta_0\n",
    "\n",
    "\n",
    "print(f\"Solving Linear Regression with Gradient Descent\")\n",
    "m, b = linear_gradient_descent(X, y, alpha=0.02, num_iterations=1000)\n",
    "print(f\"y = {m} * x + {b}\")"
   ]
  },
  {
   "cell_type": "code",
   "execution_count": null,
   "id": "88c0ff26",
   "metadata": {},
   "outputs": [],
   "source": [
    "x0 = np.min(X)\n",
    "x1 = np.max(X)\n",
    "y0 = m * x0 + b\n",
    "y1 = m * x1 + b\n",
    "\n",
    "plt.figure(figsize=(4, 4))\n",
    "plt.plot(X, y, '.')\n",
    "plt.plot((x0, x1), (y0, y1), 'r-')\n",
    "plt.show()"
   ]
  },
  {
   "cell_type": "code",
   "execution_count": null,
   "id": "a053b66b",
   "metadata": {},
   "outputs": [],
   "source": []
  }
 ],
 "metadata": {
  "kernelspec": {
   "display_name": "Python 3",
   "language": "python",
   "name": "python3"
  },
  "language_info": {
   "codemirror_mode": {
    "name": "ipython",
    "version": 3
   },
   "file_extension": ".py",
   "mimetype": "text/x-python",
   "name": "python",
   "nbconvert_exporter": "python",
   "pygments_lexer": "ipython3",
   "version": "3.10.11"
  }
 },
 "nbformat": 4,
 "nbformat_minor": 5
}
