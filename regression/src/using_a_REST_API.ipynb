{
 "cells": [
  {
   "cell_type": "markdown",
   "id": "a62f4bbb",
   "metadata": {},
   "source": [
    "# Downloading Data with a REST API #\n",
    "\n",
    "For most machine learning and AI researchers, a lot of time is spent obtaining data from internet sources. As we have already discovered, it is time consuming and annoying to look up the stats yourself as a human from a web page. We can create web scrapers to automatically extract data from HTML, but scrapers introduce a whole new set of difficulties between dynamic web content, complex encoding schemes, and data obfuscation. Regular expressions and modules like Beautiful Soup help, but the process is still tedious and mysterious.\n",
    "\n",
    "Web APIs are interfaces created to share data in a way that is organized and helpful. They are an official interface that are documenated and often have forums or some other type of community support. Organizations create Web APIs with the intention of sharing their data so there are standards, policies, and fee structures. Most APIs include free accounts that are limit the volume and frequency of requests.\n",
    "\n",
    "REST (Representational State Transfer) is one of the two major types of web APIs and the other is SOAP (Simple Object Access Protocol). Most of the web services that I have used were REST based. Here's a fairly short [article that compares REST and SOAP](https://raygun.com/blog/soap-vs-rest-vs-json/).\n",
    "\n",
    "Let's use a REST interface to download data for the [UK Footballer's Premier League (soccer)](https://www.premierleague.com).\n",
    "\n",
    "## Using the Football API ##\n",
    "\n",
    "Rapid API is a website that offers web API access to many different datasources. You will need to [register for a Rapid API account ](https://rapidapi.com/auth/sign-up) before you can begin making queries. Then move to the [API Documentation](https://rapidapi.com/api-sports/api/api-football/) that provides sample queries and results.\n",
    "\n",
    "I chose this particular soccer API several years ago because it had a free service level (100 queries/month), seemed to be well documented, and had a sufficient set of data. But there are other soccer APIs available and you are welcome to use whiever API you think is best for the task (such as [this one](https://www.api-football.com/documentation-v3))."
   ]
  },
  {
   "cell_type": "markdown",
   "id": "c4125299",
   "metadata": {},
   "source": []
  },
  {
   "cell_type": "code",
   "execution_count": null,
   "id": "39a69ba9",
   "metadata": {},
   "outputs": [],
   "source": [
    "# Tutorial Example from https://rapidapi.com/api-sports/api/api-football/\n",
    "\n",
    "import requests\n",
    "\n",
    "url = \"https://api-football-v1.p.rapidapi.com/v3/leagues\"\n",
    "\n",
    "headers = {\n",
    "    \"X-RapidAPI-Host\": \"api-football-v1.p.rapidapi.com\",\n",
    "    \"X-RapidAPI-Key\": \"your_API_key_goes_here\"\n",
    "}\n",
    "\n",
    "response = requests.request(\"GET\", url, headers=headers)\n",
    "\n",
    "print(response.text)"
   ]
  },
  {
   "cell_type": "code",
   "execution_count": 51,
   "id": "e2dd942a",
   "metadata": {},
   "outputs": [],
   "source": [
    "data = response.json()"
   ]
  },
  {
   "cell_type": "code",
   "execution_count": null,
   "id": "a7f2ff86",
   "metadata": {},
   "outputs": [],
   "source": [
    "data.keys()"
   ]
  },
  {
   "cell_type": "code",
   "execution_count": null,
   "id": "adb44880",
   "metadata": {},
   "outputs": [],
   "source": [
    "data['get']"
   ]
  },
  {
   "cell_type": "code",
   "execution_count": null,
   "id": "f98a01b9",
   "metadata": {},
   "outputs": [],
   "source": [
    "data['parameters']"
   ]
  },
  {
   "cell_type": "code",
   "execution_count": null,
   "id": "1cb5401e",
   "metadata": {},
   "outputs": [],
   "source": [
    "data['errors']"
   ]
  },
  {
   "cell_type": "code",
   "execution_count": null,
   "id": "080e235f",
   "metadata": {},
   "outputs": [],
   "source": [
    "data['paging']"
   ]
  },
  {
   "cell_type": "code",
   "execution_count": null,
   "id": "3381cbbe",
   "metadata": {},
   "outputs": [],
   "source": [
    "data['results']"
   ]
  },
  {
   "cell_type": "code",
   "execution_count": null,
   "id": "53dee9d2",
   "metadata": {},
   "outputs": [],
   "source": [
    "data['response']"
   ]
  },
  {
   "cell_type": "code",
   "execution_count": null,
   "id": "601d88ed",
   "metadata": {},
   "outputs": [],
   "source": [
    "data['response'][0]['league']"
   ]
  },
  {
   "cell_type": "code",
   "execution_count": null,
   "id": "1596fb5a",
   "metadata": {},
   "outputs": [],
   "source": [
    "for entry in data['response'][:10]:\n",
    "    league_name = entry['league']['name']\n",
    "    league_ctry = entry['country']['name']\n",
    "    league_seasons = [season['year'] for season in entry['seasons']]\n",
    "    print(f\"{league_name} ({league_ctry}) - {league_seasons}\")"
   ]
  },
  {
   "cell_type": "code",
   "execution_count": null,
   "id": "10bdd62f",
   "metadata": {},
   "outputs": [],
   "source": []
  },
  {
   "cell_type": "markdown",
   "id": "3bed59e7",
   "metadata": {},
   "source": [
    "## Helper Functions ##\n",
    "\n",
    "Let's make some helper functions to download various queries and save the results to disk. We want to save the information since we are on a limited request count (100/day). We'll save the JSON to disk and then load the saved version in order to work with it."
   ]
  },
  {
   "cell_type": "code",
   "execution_count": 26,
   "id": "860ffa51",
   "metadata": {},
   "outputs": [],
   "source": [
    "import json\n",
    "import requests\n",
    "\n",
    "def save_json_data(filename, data):\n",
    "    with open(filename, 'w') as fout:\n",
    "        json_string_data = json.dumps(data)\n",
    "        fout.write(json_string_data)\n",
    "        \n",
    "def load_json_data(filename):\n",
    "    with open(filename) as fin:\n",
    "        json_data = json.load(fin)\n",
    "        return json_data\n",
    "\n",
    "def download_json_data(filename, url, querystring):\n",
    "    # References:\n",
    "    #    https://rapidapi.com/api-sports/api/api-football/\n",
    "    #    https://www.api-football.com/documentation-v3\n",
    "    headers = {\n",
    "        \"X-RapidAPI-Host\": \"api-football-v1.p.rapidapi.com\",\n",
    "        \"X-RapidAPI-Key\": \"your_API_key_goes_here\"\n",
    "    }\n",
    "    response = requests.request(\"GET\", url, headers=headers, params=querystring)\n",
    "\n",
    "    json_data = response.json()\n",
    "    save_json_data(filename, json_data)\n",
    "    pages_left = json_data['paging']['total'] - json_data['paging']['current']\n",
    "    result = { 'get':json_data['get'], 'parameters':json_data['parameters'], \n",
    "               'errors':json_data['errors'], 'results':json_data['results'],\n",
    "               'pages_remaining':pages_left,\n",
    "               'response':json_data['response'] }\n",
    "    return result"
   ]
  },
  {
   "cell_type": "code",
   "execution_count": null,
   "id": "24b0e66e",
   "metadata": {},
   "outputs": [],
   "source": []
  },
  {
   "cell_type": "markdown",
   "id": "ca8b496f",
   "metadata": {},
   "source": [
    "## Downloading and Saving JSON ##\n",
    "\n",
    "Remember, the helper function `download_json_data` saves the raw JSON to disk so that we can examine it later. We must be careful downloading the same data over and over again. The API might allow us so many free queries but at a certain point the website will start charging us.\n",
    "\n",
    "Feel free to explore the data at this point, although it might better to investage the saved data in a text editor before doing much programming."
   ]
  },
  {
   "cell_type": "code",
   "execution_count": null,
   "id": "102fa5ba",
   "metadata": {},
   "outputs": [],
   "source": [
    "# All leagues\n",
    "url = \"https://api-football-v1.p.rapidapi.com/v3/leagues\"\n",
    "querystring = None\n",
    "filename = 'leagues.json'\n",
    "data = download_json_data(filename, url, querystring)\n",
    "print(f\"Downloaded {data['results']} results with {data['pages_remaining']} pages remaining\")\n",
    "\n",
    "# I explored the data before writing this line of code\n",
    "print(f\"{data['response'][0]['league']}\")\n",
    "print(f\"...\")"
   ]
  },
  {
   "cell_type": "code",
   "execution_count": null,
   "id": "454f33ed",
   "metadata": {},
   "outputs": [],
   "source": [
    "# Teams in a certain league\n",
    "url = \"https://api-football-v1.p.rapidapi.com/v3/teams\"\n",
    "querystring = {\"league\":\"39\",\"season\":\"2021\"}\n",
    "filename = 'premier_teams.json'\n",
    "data = download_json_data(filename, url, querystring)\n",
    "print(f\"Downloaded {data['results']} results with {data['pages_remaining']} pages remaining\")\n",
    "\n",
    "# I explored the data before writing this line of code\n",
    "print(f\"{data['response'][0]['team']['name']} ({data['response'][0]['team']['id']}) - {data['response'][0]['team']['logo']}\")\n",
    "print(f\"...\")"
   ]
  },
  {
   "cell_type": "code",
   "execution_count": null,
   "id": "4950cec6",
   "metadata": {},
   "outputs": [],
   "source": [
    "# Top Scorers in a certain league by season\n",
    "url = \"https://api-football-v1.p.rapidapi.com/v3/players/topscorers\"\n",
    "querystring = {\"league\":\"39\",\"season\":\"2021\"}\n",
    "filename = 'premier_top_scorers_2021.json'\n",
    "data = download_json_data(filename, url, querystring)\n",
    "print(f\"Downloaded {data['results']} results with {data['pages_remaining']} pages remaining\")\n",
    "\n",
    "# I explored the data before writing this line of code\n",
    "print(f\"{data['response'][0]['player']['name']} ({data['response'][0]['player']['id']}): {data['response'][0]['statistics'][0]['goals']['total']} goals\")\n",
    "print(f\"...\")\n"
   ]
  },
  {
   "cell_type": "code",
   "execution_count": null,
   "id": "11c4a005",
   "metadata": {},
   "outputs": [],
   "source": []
  },
  {
   "cell_type": "markdown",
   "id": "09e956e5",
   "metadata": {},
   "source": [
    "## Working with Saved JSON Data ##\n",
    "\n",
    "Now that we've saved a few JSON files, let's explore them and try to extract the information we really need. After all, the JSON data contains *way* more data than we know what to do with."
   ]
  },
  {
   "cell_type": "code",
   "execution_count": null,
   "id": "19dfd9c2",
   "metadata": {},
   "outputs": [],
   "source": [
    "def lookup_league_id(json_data, league_name='Premier League', league_country='England'):\n",
    "\n",
    "    if json_data['get'] != 'leagues':\n",
    "        print(f\"Invalid JSON Data: expected 'leagues' but recieved '{json_data['get']}'\")\n",
    "    \n",
    "    matches = []\n",
    "    fuzzy_matches = []\n",
    "    for entry in json_data['response']:\n",
    "        if entry['league']['name'] == league_name and entry['country']['name'] == league_country:\n",
    "            matches.append(entry['league']['id'])\n",
    "        elif entry['league']['name'].startswith(league_name):\n",
    "            fuzzy_matches.append(entry['league']['id'])\n",
    "    \n",
    "    if len(matches) > 0:\n",
    "        return matches\n",
    "    else:\n",
    "        return fuzzy_matches\n",
    "    \n",
    "json_data = load_json_data('leagues.json')\n",
    "print(lookup_league_id(json_data, 'Premier League', 'England'))\n",
    "print(lookup_league_id(json_data, 'Bundesliga', 'Germany'))"
   ]
  },
  {
   "cell_type": "code",
   "execution_count": null,
   "id": "bb6c5b9d",
   "metadata": {},
   "outputs": [],
   "source": [
    "def convert_league_to_csv(json_data):\n",
    "    \n",
    "    if json_data['get'] != 'leagues':\n",
    "        print(f\"Invalid JSON Data: expected 'leagues' but recieved '{json_data['get']}'\")\n",
    "    \n",
    "    rows = ['id, name, country, type, first_season, last_season, logo']\n",
    "    for entry in json_data['response']:\n",
    "        first_season = min([season['year'] for season in entry['seasons']])\n",
    "        last_season = max([season['year'] for season in entry['seasons']])                            \n",
    "        line = (f\"{entry['league']['id']}, {entry['league']['name']}, {entry['league']['type']}, \" +\n",
    "                f\"{first_season}, {last_season}, {entry['league']['logo']}\")\n",
    "        rows.append(line)\n",
    "    \n",
    "    return rows\n",
    "\n",
    "convert_league_to_csv(json_data)"
   ]
  },
  {
   "cell_type": "code",
   "execution_count": null,
   "id": "0cfe702a",
   "metadata": {},
   "outputs": [],
   "source": []
  },
  {
   "cell_type": "code",
   "execution_count": null,
   "id": "0a5ba83f",
   "metadata": {},
   "outputs": [],
   "source": [
    "def convert_teams_to_csv(json_data):\n",
    "    \n",
    "    if json_data['get'] != 'teams':\n",
    "        print(f\"Invalid JSON Data: expected 'teams' but recieved '{json_data['get']}'\")\n",
    "    \n",
    "    rows = ['league, season, id, name, code, country, founded, national, stadium, city, surface, logo']\n",
    "    for entry in json_data['response']:\n",
    "        line = (f\"{json_data['parameters']['league']}, {json_data['parameters']['season']}, \" +\n",
    "                f\"{entry['team']['id']}, {entry['team']['name']}, {entry['team']['code']}, \" +\n",
    "                f\"{entry['team']['country']}, {entry['team']['founded']}, {entry['team']['national']}, \" +\n",
    "                f\"{entry['venue']['name']}, {entry['venue']['city']}, {entry['venue']['surface']}, {entry['team']['logo']}\")\n",
    "        rows.append(line)\n",
    "    \n",
    "    return rows\n",
    "\n",
    "\n",
    "json_data = load_json_data('premier_teams.json')\n",
    "csv_rows = convert_teams_to_csv(json_data)\n",
    "csv_rows"
   ]
  },
  {
   "cell_type": "code",
   "execution_count": null,
   "id": "d315684d",
   "metadata": {},
   "outputs": [],
   "source": []
  },
  {
   "cell_type": "code",
   "execution_count": null,
   "id": "95caca68",
   "metadata": {},
   "outputs": [],
   "source": [
    "json_data = load_json_data('premier_top_scorers_2021.json')\n",
    "\n",
    "print(json_data['response'][0].keys())\n",
    "print(json_data['response'][0]['player'])\n",
    "print(json_data['response'][0]['statistics'])"
   ]
  },
  {
   "cell_type": "code",
   "execution_count": null,
   "id": "3a5967a0",
   "metadata": {},
   "outputs": [],
   "source": [
    "for scorer in json_data['response']:\n",
    "    print(f\"{scorer['player']['name']} ({scorer['player']['nationality']}) ({scorer['player']['id']}): \" +\n",
    "          f\"{scorer['player']['height']} / {scorer['player']['weight']}\")\n",
    "    for stats in scorer['statistics']:\n",
    "        print(f\"  {stats['league']['season']} {stats['team']['name']}: Games: {stats['games']['appearences']} \" +\n",
    "              f\"Minutes: {stats['games']['minutes']} \" + \n",
    "              f\"Shots On: {stats['shots']['on']}/{stats['shots']['total']} \" +\n",
    "              f\"Goals: {stats['goals']['total']} Assists: {stats['goals']['assists']}\")\n",
    "    print()"
   ]
  },
  {
   "cell_type": "code",
   "execution_count": null,
   "id": "d31d6500",
   "metadata": {},
   "outputs": [],
   "source": []
  },
  {
   "cell_type": "code",
   "execution_count": null,
   "id": "4aa14007",
   "metadata": {},
   "outputs": [],
   "source": [
    "url = 'https://api-football-v1.p.rapidapi.com/v3/players/squads'\n",
    "querystring = {\"team\":\"63\"}\n",
    "download_json_data('leeds_players.json', url, querystring)"
   ]
  },
  {
   "cell_type": "code",
   "execution_count": null,
   "id": "88a43bc4",
   "metadata": {},
   "outputs": [],
   "source": [
    "def convert_roster_to_csv(json_data):\n",
    "    \n",
    "    if json_data['get'] != 'players/squads':\n",
    "        print(f\"Invalid JSON Data: expected 'players/squads' but recieved '{json_data['get']}'\")\n",
    "    \n",
    "    rows = ['team_id, team_name, id, name, age, number, position, photo']\n",
    "    for entry in json_data['response']:\n",
    "        for player in entry['players']:\n",
    "            line = (f\"{entry['team']['id']}, {entry['team']['name']}, \" +\n",
    "                    f\"{player['id']}, {player['name']}, {player['age']}, \" +\n",
    "                    f\"{player['number']}, {player['position']}, {player['photo']}\")\n",
    "            rows.append(line)\n",
    "    \n",
    "    return rows\n",
    "\n",
    "json_data = load_json_data('leeds_players.json')\n",
    "csv_rows = convert_roster_to_csv(json_data)\n",
    "csv_rows"
   ]
  },
  {
   "cell_type": "code",
   "execution_count": null,
   "id": "025ae11d",
   "metadata": {},
   "outputs": [],
   "source": []
  },
  {
   "cell_type": "code",
   "execution_count": null,
   "id": "0fb50749",
   "metadata": {},
   "outputs": [],
   "source": [
    "url = 'https://api-football-v1.p.rapidapi.com/v3/players'\n",
    "querystring = {\"id\":\"19134\", \"season\":\"2021\"}\n",
    "download_json_data('p_bamford_attacker_leads.json', url, querystring)"
   ]
  },
  {
   "cell_type": "code",
   "execution_count": null,
   "id": "856829cf",
   "metadata": {},
   "outputs": [],
   "source": [
    "def convert_player_to_csv(json_data):\n",
    "    \n",
    "    if json_data['get'] != 'players':\n",
    "        print(f\"Invalid JSON Data: expected 'players' but recieved '{json_data['get']}'\")\n",
    "    \n",
    "    header = 'id, name, age, height, weight, photo, injured, team, league, season, games, position, minutes, ' + \\\n",
    "    'rating, captain, shots_taken, shots_on, goals, assists, passes, accuracy, tackles, blocks, interceptions, ' + \\\n",
    "    'duels, duels_won, dribble_attempts, dribble_success, fouls_drawn, fouls_committed, penalty_scored, penalty_missed'\n",
    "    rows = [header]\n",
    "    for entry in json_data['response']:\n",
    "        for stats in entry['statistics']:\n",
    "            line = (f\"{entry['player']['id']}, {entry['player']['name']}, {entry['player']['age']}, {entry['player']['height']}, \" +\n",
    "                    f\"{entry['player']['weight']}, {entry['player']['photo']}, {entry['player']['injured']}, \" +\n",
    "                    f\"{stats['team']['name']}, {stats['league']['name']}, {stats['league']['season']}, \" +\n",
    "                    f\"{stats['games']['appearences']}, {stats['games']['position']}, {stats['games']['minutes']}, \" +\n",
    "                    f\"{stats['games']['rating']}, {stats['games']['captain']}, \" +\n",
    "                    f\"{stats['shots']['total']}, {stats['shots']['on']}, \" +\n",
    "                    f\"{stats['goals']['total']}, {stats['goals']['assists']}, \" +\n",
    "                    f\"{stats['passes']['total']}, {stats['passes']['accuracy']}, \" +\n",
    "                    f\"{stats['tackles']['total']}, {stats['tackles']['blocks']}, {stats['tackles']['interceptions']}, \" +\n",
    "                    f\"{stats['duels']['total']}, {stats['duels']['won']}, \" +\n",
    "                    f\"{stats['dribbles']['attempts']}, {stats['dribbles']['success']}, \" +\n",
    "                    f\"{stats['fouls']['drawn']}, {stats['fouls']['committed']}, \" +\n",
    "                    f\"{stats['penalty']['scored']}, {stats['penalty']['missed']}\")\n",
    "            rows.append(line)\n",
    "    \n",
    "    return rows\n",
    "\n",
    "json_data = load_json_data('p_bamford_attacker_leads.json')\n",
    "csv_rows = convert_player_to_csv(json_data)\n",
    "csv_rows"
   ]
  },
  {
   "cell_type": "code",
   "execution_count": null,
   "id": "cd499fe4",
   "metadata": {},
   "outputs": [],
   "source": []
  }
 ],
 "metadata": {
  "kernelspec": {
   "display_name": "Python 3 (ipykernel)",
   "language": "python",
   "name": "python3"
  },
  "language_info": {
   "codemirror_mode": {
    "name": "ipython",
    "version": 3
   },
   "file_extension": ".py",
   "mimetype": "text/x-python",
   "name": "python",
   "nbconvert_exporter": "python",
   "pygments_lexer": "ipython3",
   "version": "3.9.7"
  }
 },
 "nbformat": 4,
 "nbformat_minor": 5
}
